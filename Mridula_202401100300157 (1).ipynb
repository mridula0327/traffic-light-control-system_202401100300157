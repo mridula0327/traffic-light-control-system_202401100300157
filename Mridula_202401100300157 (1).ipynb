{
  "nbformat": 4,
  "nbformat_minor": 0,
  "metadata": {
    "colab": {
      "provenance": []
    },
    "kernelspec": {
      "name": "python3",
      "display_name": "Python 3"
    },
    "language_info": {
      "name": "python"
    }
  },
  "cells": [
    {
      "cell_type": "code",
      "execution_count": 3,
      "metadata": {
        "colab": {
          "base_uri": "https://localhost:8080/"
        },
        "id": "25_upAE5f6Jf",
        "outputId": "fc86a12a-198c-4070-96bf-3182c550f301"
      },
      "outputs": [
        {
          "output_type": "stream",
          "name": "stdout",
          "text": [
            "\n",
            "Traffic Light Control System\n",
            "1. Red Light\n",
            "2. Yellow Light\n",
            "3. Green Light\n",
            "4. Exit\n",
            "Enter your choice (1-4): 3\n",
            "Green Light: GO\n",
            "\n",
            "Traffic Light Control System\n",
            "1. Red Light\n",
            "2. Yellow Light\n",
            "3. Green Light\n",
            "4. Exit\n",
            "Enter your choice (1-4): 4\n",
            "Exiting Traffic Light Control System.\n"
          ]
        }
      ],
      "source": [
        "import time\n",
        "\n",
        "def display_menu():\n",
        "    print(\"\\nTraffic Light Control System\")\n",
        "    print(\"1. Red Light\")\n",
        "    print(\"2. Yellow Light\")\n",
        "    print(\"3. Green Light\")\n",
        "    print(\"4. Exit\")\n",
        "\n",
        "def traffic_light_control():\n",
        "    while True:\n",
        "        # Display menu\n",
        "        display_menu()\n",
        "\n",
        "        # Get user input\n",
        "        try:\n",
        "            choice = int(input(\"Enter your choice (1-4): \"))\n",
        "\n",
        "            # Red Light - Stop\n",
        "            if choice == 1:\n",
        "                print(\"Red Light: STOP\")\n",
        "                time.sleep(2)  # Red light for 2 seconds\n",
        "\n",
        "            # Yellow Light - Get ready\n",
        "            elif choice == 2:\n",
        "                print(\"Yellow Light: GET READY\")\n",
        "                time.sleep(2)  # Yellow light for 2 seconds\n",
        "\n",
        "            # Green Light - Go\n",
        "            elif choice == 3:\n",
        "                print(\"Green Light: GO\")\n",
        "                time.sleep(5)  # Green light for 5 seconds\n",
        "\n",
        "            # Exit the system\n",
        "            elif choice == 4:\n",
        "                print(\"Exiting Traffic Light Control System.\")\n",
        "                break\n",
        "\n",
        "            else:\n",
        "                print(\"Invalid choice. Please enter a number between 1 and 4.\")\n",
        "\n",
        "        except ValueError:\n",
        "            print(\"Invalid input! Please enter a valid number.\")\n",
        "\n",
        "# Run the traffic light control system\n",
        "if __name__ == \"__main__\":\n",
        "    traffic_light_control()\n"
      ]
    }
  ]
}